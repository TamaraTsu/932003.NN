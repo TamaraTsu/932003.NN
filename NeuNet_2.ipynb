{
  "nbformat": 4,
  "nbformat_minor": 0,
  "metadata": {
    "colab": {
      "provenance": []
    },
    "kernelspec": {
      "name": "python3",
      "display_name": "Python 3"
    },
    "language_info": {
      "name": "python"
    }
  },
  "cells": [
    {
      "cell_type": "code",
      "execution_count": 1,
      "metadata": {
        "colab": {
          "base_uri": "https://localhost:8080/"
        },
        "id": "3LqJfog9EvF9",
        "outputId": "1fe687a2-afed-45b7-f088-27a375cfefa0"
      },
      "outputs": [
        {
          "output_type": "stream",
          "name": "stdout",
          "text": [
            "Mounted at /content/gdrive\n"
          ]
        }
      ],
      "source": [
        "from google.colab import drive\n",
        "drive.mount('/content/gdrive')"
      ]
    },
    {
      "cell_type": "code",
      "source": [
        "import numpy as np\n",
        "import pandas as pd\n",
        "import tensorflow as tf\n",
        "import matplotlib.pyplot as plt\n",
        "from tensorflow.keras.layers import Dropout\n",
        "from sklearn.preprocessing import MinMaxScaler\n",
        "from sklearn.metrics import mean_squared_error, mean_absolute_error, r2_score"
      ],
      "metadata": {
        "id": "GOBKxJ87FCXu"
      },
      "execution_count": 2,
      "outputs": []
    },
    {
      "cell_type": "code",
      "source": [
        "file_name = \"/content/gdrive/MyDrive/Colab Notebooks/Yakutsk_weather_19102020_01102012.csv\""
      ],
      "metadata": {
        "id": "xzVIPhABc5nL"
      },
      "execution_count": 10,
      "outputs": []
    },
    {
      "cell_type": "code",
      "source": [
        "df = pd.read_csv(file_name, sep=';',encoding='iso-8859-1')\n",
        "df.head(10)"
      ],
      "metadata": {
        "colab": {
          "base_uri": "https://localhost:8080/",
          "height": 363
        },
        "id": "VkqU9ESDecHq",
        "outputId": "7e6ce2e0-547e-43c6-efcf-d1fd013b0aaa"
      },
      "execution_count": 13,
      "outputs": [
        {
          "output_type": "execute_result",
          "data": {
            "text/plain": [
              "          LocalTime    T     P0      P     U     DD\n",
              "0  19.10.2020 17:00 -7.0  745.9  758.2  68.0  Âåòåð\n",
              "1  19.10.2020 16:30 -6.0  746.0  758.2  63.0  Âåòåð\n",
              "2  19.10.2020 16:00 -5.0  746.0  758.2  58.0  Âåòåð\n",
              "3  19.10.2020 15:30 -4.0  746.1  758.2  59.0  Âåòåð\n",
              "4  19.10.2020 15:00 -4.0  746.1  758.2  54.0  Âåòåð\n",
              "5  19.10.2020 14:30 -4.0  746.1  758.2  63.0  Âåòåð\n",
              "6  19.10.2020 14:00 -4.0  746.1  758.2  63.0  Âåòåð\n",
              "7  19.10.2020 13:30 -4.0  746.1  758.2  63.0  Âåòåð\n",
              "8  19.10.2020 13:00 -3.0  746.1  758.2  64.0  Âåòåð\n",
              "9  19.10.2020 12:30 -4.0  746.1  758.2  63.0  Âåòåð"
            ],
            "text/html": [
              "\n",
              "  <div id=\"df-7832cb43-eb63-417b-9e27-6c5c7850672d\" class=\"colab-df-container\">\n",
              "    <div>\n",
              "<style scoped>\n",
              "    .dataframe tbody tr th:only-of-type {\n",
              "        vertical-align: middle;\n",
              "    }\n",
              "\n",
              "    .dataframe tbody tr th {\n",
              "        vertical-align: top;\n",
              "    }\n",
              "\n",
              "    .dataframe thead th {\n",
              "        text-align: right;\n",
              "    }\n",
              "</style>\n",
              "<table border=\"1\" class=\"dataframe\">\n",
              "  <thead>\n",
              "    <tr style=\"text-align: right;\">\n",
              "      <th></th>\n",
              "      <th>LocalTime</th>\n",
              "      <th>T</th>\n",
              "      <th>P0</th>\n",
              "      <th>P</th>\n",
              "      <th>U</th>\n",
              "      <th>DD</th>\n",
              "    </tr>\n",
              "  </thead>\n",
              "  <tbody>\n",
              "    <tr>\n",
              "      <th>0</th>\n",
              "      <td>19.10.2020 17:00</td>\n",
              "      <td>-7.0</td>\n",
              "      <td>745.9</td>\n",
              "      <td>758.2</td>\n",
              "      <td>68.0</td>\n",
              "      <td>Âåòåð</td>\n",
              "    </tr>\n",
              "    <tr>\n",
              "      <th>1</th>\n",
              "      <td>19.10.2020 16:30</td>\n",
              "      <td>-6.0</td>\n",
              "      <td>746.0</td>\n",
              "      <td>758.2</td>\n",
              "      <td>63.0</td>\n",
              "      <td>Âåòåð</td>\n",
              "    </tr>\n",
              "    <tr>\n",
              "      <th>2</th>\n",
              "      <td>19.10.2020 16:00</td>\n",
              "      <td>-5.0</td>\n",
              "      <td>746.0</td>\n",
              "      <td>758.2</td>\n",
              "      <td>58.0</td>\n",
              "      <td>Âåòåð</td>\n",
              "    </tr>\n",
              "    <tr>\n",
              "      <th>3</th>\n",
              "      <td>19.10.2020 15:30</td>\n",
              "      <td>-4.0</td>\n",
              "      <td>746.1</td>\n",
              "      <td>758.2</td>\n",
              "      <td>59.0</td>\n",
              "      <td>Âåòåð</td>\n",
              "    </tr>\n",
              "    <tr>\n",
              "      <th>4</th>\n",
              "      <td>19.10.2020 15:00</td>\n",
              "      <td>-4.0</td>\n",
              "      <td>746.1</td>\n",
              "      <td>758.2</td>\n",
              "      <td>54.0</td>\n",
              "      <td>Âåòåð</td>\n",
              "    </tr>\n",
              "    <tr>\n",
              "      <th>5</th>\n",
              "      <td>19.10.2020 14:30</td>\n",
              "      <td>-4.0</td>\n",
              "      <td>746.1</td>\n",
              "      <td>758.2</td>\n",
              "      <td>63.0</td>\n",
              "      <td>Âåòåð</td>\n",
              "    </tr>\n",
              "    <tr>\n",
              "      <th>6</th>\n",
              "      <td>19.10.2020 14:00</td>\n",
              "      <td>-4.0</td>\n",
              "      <td>746.1</td>\n",
              "      <td>758.2</td>\n",
              "      <td>63.0</td>\n",
              "      <td>Âåòåð</td>\n",
              "    </tr>\n",
              "    <tr>\n",
              "      <th>7</th>\n",
              "      <td>19.10.2020 13:30</td>\n",
              "      <td>-4.0</td>\n",
              "      <td>746.1</td>\n",
              "      <td>758.2</td>\n",
              "      <td>63.0</td>\n",
              "      <td>Âåòåð</td>\n",
              "    </tr>\n",
              "    <tr>\n",
              "      <th>8</th>\n",
              "      <td>19.10.2020 13:00</td>\n",
              "      <td>-3.0</td>\n",
              "      <td>746.1</td>\n",
              "      <td>758.2</td>\n",
              "      <td>64.0</td>\n",
              "      <td>Âåòåð</td>\n",
              "    </tr>\n",
              "    <tr>\n",
              "      <th>9</th>\n",
              "      <td>19.10.2020 12:30</td>\n",
              "      <td>-4.0</td>\n",
              "      <td>746.1</td>\n",
              "      <td>758.2</td>\n",
              "      <td>63.0</td>\n",
              "      <td>Âåòåð</td>\n",
              "    </tr>\n",
              "  </tbody>\n",
              "</table>\n",
              "</div>\n",
              "    <div class=\"colab-df-buttons\">\n",
              "\n",
              "  <div class=\"colab-df-container\">\n",
              "    <button class=\"colab-df-convert\" onclick=\"convertToInteractive('df-7832cb43-eb63-417b-9e27-6c5c7850672d')\"\n",
              "            title=\"Convert this dataframe to an interactive table.\"\n",
              "            style=\"display:none;\">\n",
              "\n",
              "  <svg xmlns=\"http://www.w3.org/2000/svg\" height=\"24px\" viewBox=\"0 -960 960 960\">\n",
              "    <path d=\"M120-120v-720h720v720H120Zm60-500h600v-160H180v160Zm220 220h160v-160H400v160Zm0 220h160v-160H400v160ZM180-400h160v-160H180v160Zm440 0h160v-160H620v160ZM180-180h160v-160H180v160Zm440 0h160v-160H620v160Z\"/>\n",
              "  </svg>\n",
              "    </button>\n",
              "\n",
              "  <style>\n",
              "    .colab-df-container {\n",
              "      display:flex;\n",
              "      gap: 12px;\n",
              "    }\n",
              "\n",
              "    .colab-df-convert {\n",
              "      background-color: #E8F0FE;\n",
              "      border: none;\n",
              "      border-radius: 50%;\n",
              "      cursor: pointer;\n",
              "      display: none;\n",
              "      fill: #1967D2;\n",
              "      height: 32px;\n",
              "      padding: 0 0 0 0;\n",
              "      width: 32px;\n",
              "    }\n",
              "\n",
              "    .colab-df-convert:hover {\n",
              "      background-color: #E2EBFA;\n",
              "      box-shadow: 0px 1px 2px rgba(60, 64, 67, 0.3), 0px 1px 3px 1px rgba(60, 64, 67, 0.15);\n",
              "      fill: #174EA6;\n",
              "    }\n",
              "\n",
              "    .colab-df-buttons div {\n",
              "      margin-bottom: 4px;\n",
              "    }\n",
              "\n",
              "    [theme=dark] .colab-df-convert {\n",
              "      background-color: #3B4455;\n",
              "      fill: #D2E3FC;\n",
              "    }\n",
              "\n",
              "    [theme=dark] .colab-df-convert:hover {\n",
              "      background-color: #434B5C;\n",
              "      box-shadow: 0px 1px 3px 1px rgba(0, 0, 0, 0.15);\n",
              "      filter: drop-shadow(0px 1px 2px rgba(0, 0, 0, 0.3));\n",
              "      fill: #FFFFFF;\n",
              "    }\n",
              "  </style>\n",
              "\n",
              "    <script>\n",
              "      const buttonEl =\n",
              "        document.querySelector('#df-7832cb43-eb63-417b-9e27-6c5c7850672d button.colab-df-convert');\n",
              "      buttonEl.style.display =\n",
              "        google.colab.kernel.accessAllowed ? 'block' : 'none';\n",
              "\n",
              "      async function convertToInteractive(key) {\n",
              "        const element = document.querySelector('#df-7832cb43-eb63-417b-9e27-6c5c7850672d');\n",
              "        const dataTable =\n",
              "          await google.colab.kernel.invokeFunction('convertToInteractive',\n",
              "                                                    [key], {});\n",
              "        if (!dataTable) return;\n",
              "\n",
              "        const docLinkHtml = 'Like what you see? Visit the ' +\n",
              "          '<a target=\"_blank\" href=https://colab.research.google.com/notebooks/data_table.ipynb>data table notebook</a>'\n",
              "          + ' to learn more about interactive tables.';\n",
              "        element.innerHTML = '';\n",
              "        dataTable['output_type'] = 'display_data';\n",
              "        await google.colab.output.renderOutput(dataTable, element);\n",
              "        const docLink = document.createElement('div');\n",
              "        docLink.innerHTML = docLinkHtml;\n",
              "        element.appendChild(docLink);\n",
              "      }\n",
              "    </script>\n",
              "  </div>\n",
              "\n",
              "\n",
              "<div id=\"df-159afd12-9c9f-4e52-94d7-164f12f1a5f6\">\n",
              "  <button class=\"colab-df-quickchart\" onclick=\"quickchart('df-159afd12-9c9f-4e52-94d7-164f12f1a5f6')\"\n",
              "            title=\"Suggest charts\"\n",
              "            style=\"display:none;\">\n",
              "\n",
              "<svg xmlns=\"http://www.w3.org/2000/svg\" height=\"24px\"viewBox=\"0 0 24 24\"\n",
              "     width=\"24px\">\n",
              "    <g>\n",
              "        <path d=\"M19 3H5c-1.1 0-2 .9-2 2v14c0 1.1.9 2 2 2h14c1.1 0 2-.9 2-2V5c0-1.1-.9-2-2-2zM9 17H7v-7h2v7zm4 0h-2V7h2v10zm4 0h-2v-4h2v4z\"/>\n",
              "    </g>\n",
              "</svg>\n",
              "  </button>\n",
              "\n",
              "<style>\n",
              "  .colab-df-quickchart {\n",
              "      --bg-color: #E8F0FE;\n",
              "      --fill-color: #1967D2;\n",
              "      --hover-bg-color: #E2EBFA;\n",
              "      --hover-fill-color: #174EA6;\n",
              "      --disabled-fill-color: #AAA;\n",
              "      --disabled-bg-color: #DDD;\n",
              "  }\n",
              "\n",
              "  [theme=dark] .colab-df-quickchart {\n",
              "      --bg-color: #3B4455;\n",
              "      --fill-color: #D2E3FC;\n",
              "      --hover-bg-color: #434B5C;\n",
              "      --hover-fill-color: #FFFFFF;\n",
              "      --disabled-bg-color: #3B4455;\n",
              "      --disabled-fill-color: #666;\n",
              "  }\n",
              "\n",
              "  .colab-df-quickchart {\n",
              "    background-color: var(--bg-color);\n",
              "    border: none;\n",
              "    border-radius: 50%;\n",
              "    cursor: pointer;\n",
              "    display: none;\n",
              "    fill: var(--fill-color);\n",
              "    height: 32px;\n",
              "    padding: 0;\n",
              "    width: 32px;\n",
              "  }\n",
              "\n",
              "  .colab-df-quickchart:hover {\n",
              "    background-color: var(--hover-bg-color);\n",
              "    box-shadow: 0 1px 2px rgba(60, 64, 67, 0.3), 0 1px 3px 1px rgba(60, 64, 67, 0.15);\n",
              "    fill: var(--button-hover-fill-color);\n",
              "  }\n",
              "\n",
              "  .colab-df-quickchart-complete:disabled,\n",
              "  .colab-df-quickchart-complete:disabled:hover {\n",
              "    background-color: var(--disabled-bg-color);\n",
              "    fill: var(--disabled-fill-color);\n",
              "    box-shadow: none;\n",
              "  }\n",
              "\n",
              "  .colab-df-spinner {\n",
              "    border: 2px solid var(--fill-color);\n",
              "    border-color: transparent;\n",
              "    border-bottom-color: var(--fill-color);\n",
              "    animation:\n",
              "      spin 1s steps(1) infinite;\n",
              "  }\n",
              "\n",
              "  @keyframes spin {\n",
              "    0% {\n",
              "      border-color: transparent;\n",
              "      border-bottom-color: var(--fill-color);\n",
              "      border-left-color: var(--fill-color);\n",
              "    }\n",
              "    20% {\n",
              "      border-color: transparent;\n",
              "      border-left-color: var(--fill-color);\n",
              "      border-top-color: var(--fill-color);\n",
              "    }\n",
              "    30% {\n",
              "      border-color: transparent;\n",
              "      border-left-color: var(--fill-color);\n",
              "      border-top-color: var(--fill-color);\n",
              "      border-right-color: var(--fill-color);\n",
              "    }\n",
              "    40% {\n",
              "      border-color: transparent;\n",
              "      border-right-color: var(--fill-color);\n",
              "      border-top-color: var(--fill-color);\n",
              "    }\n",
              "    60% {\n",
              "      border-color: transparent;\n",
              "      border-right-color: var(--fill-color);\n",
              "    }\n",
              "    80% {\n",
              "      border-color: transparent;\n",
              "      border-right-color: var(--fill-color);\n",
              "      border-bottom-color: var(--fill-color);\n",
              "    }\n",
              "    90% {\n",
              "      border-color: transparent;\n",
              "      border-bottom-color: var(--fill-color);\n",
              "    }\n",
              "  }\n",
              "</style>\n",
              "\n",
              "  <script>\n",
              "    async function quickchart(key) {\n",
              "      const quickchartButtonEl =\n",
              "        document.querySelector('#' + key + ' button');\n",
              "      quickchartButtonEl.disabled = true;  // To prevent multiple clicks.\n",
              "      quickchartButtonEl.classList.add('colab-df-spinner');\n",
              "      try {\n",
              "        const charts = await google.colab.kernel.invokeFunction(\n",
              "            'suggestCharts', [key], {});\n",
              "      } catch (error) {\n",
              "        console.error('Error during call to suggestCharts:', error);\n",
              "      }\n",
              "      quickchartButtonEl.classList.remove('colab-df-spinner');\n",
              "      quickchartButtonEl.classList.add('colab-df-quickchart-complete');\n",
              "    }\n",
              "    (() => {\n",
              "      let quickchartButtonEl =\n",
              "        document.querySelector('#df-159afd12-9c9f-4e52-94d7-164f12f1a5f6 button');\n",
              "      quickchartButtonEl.style.display =\n",
              "        google.colab.kernel.accessAllowed ? 'block' : 'none';\n",
              "    })();\n",
              "  </script>\n",
              "</div>\n",
              "    </div>\n",
              "  </div>\n"
            ]
          },
          "metadata": {},
          "execution_count": 13
        }
      ]
    },
    {
      "cell_type": "code",
      "source": [
        "df.drop('DD', axis=1, inplace=True)\n",
        "df.head(10)"
      ],
      "metadata": {
        "colab": {
          "base_uri": "https://localhost:8080/",
          "height": 363
        },
        "id": "Ljzo_Ferh7qd",
        "outputId": "67f05f83-37e9-4564-8201-450dcfbc31fe"
      },
      "execution_count": 14,
      "outputs": [
        {
          "output_type": "execute_result",
          "data": {
            "text/plain": [
              "          LocalTime    T     P0      P     U\n",
              "0  19.10.2020 17:00 -7.0  745.9  758.2  68.0\n",
              "1  19.10.2020 16:30 -6.0  746.0  758.2  63.0\n",
              "2  19.10.2020 16:00 -5.0  746.0  758.2  58.0\n",
              "3  19.10.2020 15:30 -4.0  746.1  758.2  59.0\n",
              "4  19.10.2020 15:00 -4.0  746.1  758.2  54.0\n",
              "5  19.10.2020 14:30 -4.0  746.1  758.2  63.0\n",
              "6  19.10.2020 14:00 -4.0  746.1  758.2  63.0\n",
              "7  19.10.2020 13:30 -4.0  746.1  758.2  63.0\n",
              "8  19.10.2020 13:00 -3.0  746.1  758.2  64.0\n",
              "9  19.10.2020 12:30 -4.0  746.1  758.2  63.0"
            ],
            "text/html": [
              "\n",
              "  <div id=\"df-cf24c3c7-e05a-4599-8889-aa00272064f2\" class=\"colab-df-container\">\n",
              "    <div>\n",
              "<style scoped>\n",
              "    .dataframe tbody tr th:only-of-type {\n",
              "        vertical-align: middle;\n",
              "    }\n",
              "\n",
              "    .dataframe tbody tr th {\n",
              "        vertical-align: top;\n",
              "    }\n",
              "\n",
              "    .dataframe thead th {\n",
              "        text-align: right;\n",
              "    }\n",
              "</style>\n",
              "<table border=\"1\" class=\"dataframe\">\n",
              "  <thead>\n",
              "    <tr style=\"text-align: right;\">\n",
              "      <th></th>\n",
              "      <th>LocalTime</th>\n",
              "      <th>T</th>\n",
              "      <th>P0</th>\n",
              "      <th>P</th>\n",
              "      <th>U</th>\n",
              "    </tr>\n",
              "  </thead>\n",
              "  <tbody>\n",
              "    <tr>\n",
              "      <th>0</th>\n",
              "      <td>19.10.2020 17:00</td>\n",
              "      <td>-7.0</td>\n",
              "      <td>745.9</td>\n",
              "      <td>758.2</td>\n",
              "      <td>68.0</td>\n",
              "    </tr>\n",
              "    <tr>\n",
              "      <th>1</th>\n",
              "      <td>19.10.2020 16:30</td>\n",
              "      <td>-6.0</td>\n",
              "      <td>746.0</td>\n",
              "      <td>758.2</td>\n",
              "      <td>63.0</td>\n",
              "    </tr>\n",
              "    <tr>\n",
              "      <th>2</th>\n",
              "      <td>19.10.2020 16:00</td>\n",
              "      <td>-5.0</td>\n",
              "      <td>746.0</td>\n",
              "      <td>758.2</td>\n",
              "      <td>58.0</td>\n",
              "    </tr>\n",
              "    <tr>\n",
              "      <th>3</th>\n",
              "      <td>19.10.2020 15:30</td>\n",
              "      <td>-4.0</td>\n",
              "      <td>746.1</td>\n",
              "      <td>758.2</td>\n",
              "      <td>59.0</td>\n",
              "    </tr>\n",
              "    <tr>\n",
              "      <th>4</th>\n",
              "      <td>19.10.2020 15:00</td>\n",
              "      <td>-4.0</td>\n",
              "      <td>746.1</td>\n",
              "      <td>758.2</td>\n",
              "      <td>54.0</td>\n",
              "    </tr>\n",
              "    <tr>\n",
              "      <th>5</th>\n",
              "      <td>19.10.2020 14:30</td>\n",
              "      <td>-4.0</td>\n",
              "      <td>746.1</td>\n",
              "      <td>758.2</td>\n",
              "      <td>63.0</td>\n",
              "    </tr>\n",
              "    <tr>\n",
              "      <th>6</th>\n",
              "      <td>19.10.2020 14:00</td>\n",
              "      <td>-4.0</td>\n",
              "      <td>746.1</td>\n",
              "      <td>758.2</td>\n",
              "      <td>63.0</td>\n",
              "    </tr>\n",
              "    <tr>\n",
              "      <th>7</th>\n",
              "      <td>19.10.2020 13:30</td>\n",
              "      <td>-4.0</td>\n",
              "      <td>746.1</td>\n",
              "      <td>758.2</td>\n",
              "      <td>63.0</td>\n",
              "    </tr>\n",
              "    <tr>\n",
              "      <th>8</th>\n",
              "      <td>19.10.2020 13:00</td>\n",
              "      <td>-3.0</td>\n",
              "      <td>746.1</td>\n",
              "      <td>758.2</td>\n",
              "      <td>64.0</td>\n",
              "    </tr>\n",
              "    <tr>\n",
              "      <th>9</th>\n",
              "      <td>19.10.2020 12:30</td>\n",
              "      <td>-4.0</td>\n",
              "      <td>746.1</td>\n",
              "      <td>758.2</td>\n",
              "      <td>63.0</td>\n",
              "    </tr>\n",
              "  </tbody>\n",
              "</table>\n",
              "</div>\n",
              "    <div class=\"colab-df-buttons\">\n",
              "\n",
              "  <div class=\"colab-df-container\">\n",
              "    <button class=\"colab-df-convert\" onclick=\"convertToInteractive('df-cf24c3c7-e05a-4599-8889-aa00272064f2')\"\n",
              "            title=\"Convert this dataframe to an interactive table.\"\n",
              "            style=\"display:none;\">\n",
              "\n",
              "  <svg xmlns=\"http://www.w3.org/2000/svg\" height=\"24px\" viewBox=\"0 -960 960 960\">\n",
              "    <path d=\"M120-120v-720h720v720H120Zm60-500h600v-160H180v160Zm220 220h160v-160H400v160Zm0 220h160v-160H400v160ZM180-400h160v-160H180v160Zm440 0h160v-160H620v160ZM180-180h160v-160H180v160Zm440 0h160v-160H620v160Z\"/>\n",
              "  </svg>\n",
              "    </button>\n",
              "\n",
              "  <style>\n",
              "    .colab-df-container {\n",
              "      display:flex;\n",
              "      gap: 12px;\n",
              "    }\n",
              "\n",
              "    .colab-df-convert {\n",
              "      background-color: #E8F0FE;\n",
              "      border: none;\n",
              "      border-radius: 50%;\n",
              "      cursor: pointer;\n",
              "      display: none;\n",
              "      fill: #1967D2;\n",
              "      height: 32px;\n",
              "      padding: 0 0 0 0;\n",
              "      width: 32px;\n",
              "    }\n",
              "\n",
              "    .colab-df-convert:hover {\n",
              "      background-color: #E2EBFA;\n",
              "      box-shadow: 0px 1px 2px rgba(60, 64, 67, 0.3), 0px 1px 3px 1px rgba(60, 64, 67, 0.15);\n",
              "      fill: #174EA6;\n",
              "    }\n",
              "\n",
              "    .colab-df-buttons div {\n",
              "      margin-bottom: 4px;\n",
              "    }\n",
              "\n",
              "    [theme=dark] .colab-df-convert {\n",
              "      background-color: #3B4455;\n",
              "      fill: #D2E3FC;\n",
              "    }\n",
              "\n",
              "    [theme=dark] .colab-df-convert:hover {\n",
              "      background-color: #434B5C;\n",
              "      box-shadow: 0px 1px 3px 1px rgba(0, 0, 0, 0.15);\n",
              "      filter: drop-shadow(0px 1px 2px rgba(0, 0, 0, 0.3));\n",
              "      fill: #FFFFFF;\n",
              "    }\n",
              "  </style>\n",
              "\n",
              "    <script>\n",
              "      const buttonEl =\n",
              "        document.querySelector('#df-cf24c3c7-e05a-4599-8889-aa00272064f2 button.colab-df-convert');\n",
              "      buttonEl.style.display =\n",
              "        google.colab.kernel.accessAllowed ? 'block' : 'none';\n",
              "\n",
              "      async function convertToInteractive(key) {\n",
              "        const element = document.querySelector('#df-cf24c3c7-e05a-4599-8889-aa00272064f2');\n",
              "        const dataTable =\n",
              "          await google.colab.kernel.invokeFunction('convertToInteractive',\n",
              "                                                    [key], {});\n",
              "        if (!dataTable) return;\n",
              "\n",
              "        const docLinkHtml = 'Like what you see? Visit the ' +\n",
              "          '<a target=\"_blank\" href=https://colab.research.google.com/notebooks/data_table.ipynb>data table notebook</a>'\n",
              "          + ' to learn more about interactive tables.';\n",
              "        element.innerHTML = '';\n",
              "        dataTable['output_type'] = 'display_data';\n",
              "        await google.colab.output.renderOutput(dataTable, element);\n",
              "        const docLink = document.createElement('div');\n",
              "        docLink.innerHTML = docLinkHtml;\n",
              "        element.appendChild(docLink);\n",
              "      }\n",
              "    </script>\n",
              "  </div>\n",
              "\n",
              "\n",
              "<div id=\"df-803914b0-a65e-4024-b089-40789df02aa6\">\n",
              "  <button class=\"colab-df-quickchart\" onclick=\"quickchart('df-803914b0-a65e-4024-b089-40789df02aa6')\"\n",
              "            title=\"Suggest charts\"\n",
              "            style=\"display:none;\">\n",
              "\n",
              "<svg xmlns=\"http://www.w3.org/2000/svg\" height=\"24px\"viewBox=\"0 0 24 24\"\n",
              "     width=\"24px\">\n",
              "    <g>\n",
              "        <path d=\"M19 3H5c-1.1 0-2 .9-2 2v14c0 1.1.9 2 2 2h14c1.1 0 2-.9 2-2V5c0-1.1-.9-2-2-2zM9 17H7v-7h2v7zm4 0h-2V7h2v10zm4 0h-2v-4h2v4z\"/>\n",
              "    </g>\n",
              "</svg>\n",
              "  </button>\n",
              "\n",
              "<style>\n",
              "  .colab-df-quickchart {\n",
              "      --bg-color: #E8F0FE;\n",
              "      --fill-color: #1967D2;\n",
              "      --hover-bg-color: #E2EBFA;\n",
              "      --hover-fill-color: #174EA6;\n",
              "      --disabled-fill-color: #AAA;\n",
              "      --disabled-bg-color: #DDD;\n",
              "  }\n",
              "\n",
              "  [theme=dark] .colab-df-quickchart {\n",
              "      --bg-color: #3B4455;\n",
              "      --fill-color: #D2E3FC;\n",
              "      --hover-bg-color: #434B5C;\n",
              "      --hover-fill-color: #FFFFFF;\n",
              "      --disabled-bg-color: #3B4455;\n",
              "      --disabled-fill-color: #666;\n",
              "  }\n",
              "\n",
              "  .colab-df-quickchart {\n",
              "    background-color: var(--bg-color);\n",
              "    border: none;\n",
              "    border-radius: 50%;\n",
              "    cursor: pointer;\n",
              "    display: none;\n",
              "    fill: var(--fill-color);\n",
              "    height: 32px;\n",
              "    padding: 0;\n",
              "    width: 32px;\n",
              "  }\n",
              "\n",
              "  .colab-df-quickchart:hover {\n",
              "    background-color: var(--hover-bg-color);\n",
              "    box-shadow: 0 1px 2px rgba(60, 64, 67, 0.3), 0 1px 3px 1px rgba(60, 64, 67, 0.15);\n",
              "    fill: var(--button-hover-fill-color);\n",
              "  }\n",
              "\n",
              "  .colab-df-quickchart-complete:disabled,\n",
              "  .colab-df-quickchart-complete:disabled:hover {\n",
              "    background-color: var(--disabled-bg-color);\n",
              "    fill: var(--disabled-fill-color);\n",
              "    box-shadow: none;\n",
              "  }\n",
              "\n",
              "  .colab-df-spinner {\n",
              "    border: 2px solid var(--fill-color);\n",
              "    border-color: transparent;\n",
              "    border-bottom-color: var(--fill-color);\n",
              "    animation:\n",
              "      spin 1s steps(1) infinite;\n",
              "  }\n",
              "\n",
              "  @keyframes spin {\n",
              "    0% {\n",
              "      border-color: transparent;\n",
              "      border-bottom-color: var(--fill-color);\n",
              "      border-left-color: var(--fill-color);\n",
              "    }\n",
              "    20% {\n",
              "      border-color: transparent;\n",
              "      border-left-color: var(--fill-color);\n",
              "      border-top-color: var(--fill-color);\n",
              "    }\n",
              "    30% {\n",
              "      border-color: transparent;\n",
              "      border-left-color: var(--fill-color);\n",
              "      border-top-color: var(--fill-color);\n",
              "      border-right-color: var(--fill-color);\n",
              "    }\n",
              "    40% {\n",
              "      border-color: transparent;\n",
              "      border-right-color: var(--fill-color);\n",
              "      border-top-color: var(--fill-color);\n",
              "    }\n",
              "    60% {\n",
              "      border-color: transparent;\n",
              "      border-right-color: var(--fill-color);\n",
              "    }\n",
              "    80% {\n",
              "      border-color: transparent;\n",
              "      border-right-color: var(--fill-color);\n",
              "      border-bottom-color: var(--fill-color);\n",
              "    }\n",
              "    90% {\n",
              "      border-color: transparent;\n",
              "      border-bottom-color: var(--fill-color);\n",
              "    }\n",
              "  }\n",
              "</style>\n",
              "\n",
              "  <script>\n",
              "    async function quickchart(key) {\n",
              "      const quickchartButtonEl =\n",
              "        document.querySelector('#' + key + ' button');\n",
              "      quickchartButtonEl.disabled = true;  // To prevent multiple clicks.\n",
              "      quickchartButtonEl.classList.add('colab-df-spinner');\n",
              "      try {\n",
              "        const charts = await google.colab.kernel.invokeFunction(\n",
              "            'suggestCharts', [key], {});\n",
              "      } catch (error) {\n",
              "        console.error('Error during call to suggestCharts:', error);\n",
              "      }\n",
              "      quickchartButtonEl.classList.remove('colab-df-spinner');\n",
              "      quickchartButtonEl.classList.add('colab-df-quickchart-complete');\n",
              "    }\n",
              "    (() => {\n",
              "      let quickchartButtonEl =\n",
              "        document.querySelector('#df-803914b0-a65e-4024-b089-40789df02aa6 button');\n",
              "      quickchartButtonEl.style.display =\n",
              "        google.colab.kernel.accessAllowed ? 'block' : 'none';\n",
              "    })();\n",
              "  </script>\n",
              "</div>\n",
              "    </div>\n",
              "  </div>\n"
            ]
          },
          "metadata": {},
          "execution_count": 14
        }
      ]
    },
    {
      "cell_type": "code",
      "source": [
        "df.describe()"
      ],
      "metadata": {
        "colab": {
          "base_uri": "https://localhost:8080/",
          "height": 300
        },
        "id": "ihRlRubxmStx",
        "outputId": "b13ade4c-a09c-495e-9771-f62785a92960"
      },
      "execution_count": 15,
      "outputs": [
        {
          "output_type": "execute_result",
          "data": {
            "text/plain": [
              "                   T             P0              P              U\n",
              "count  116050.000000  116049.000000  116049.000000  116048.000000\n",
              "mean       -8.092632     748.080996     760.517001      66.698022\n",
              "std        21.679891       6.743260       7.464018      17.645702\n",
              "min       -50.000000     726.800000     738.100000       8.000000\n",
              "25%       -29.000000     743.400000     755.400000      57.000000\n",
              "50%        -4.000000     747.700000     759.700000      68.000000\n",
              "75%        11.000000     752.400000     765.000000      78.000000\n",
              "max        35.000000     773.400000     787.700000     100.000000"
            ],
            "text/html": [
              "\n",
              "  <div id=\"df-3e6dff99-e944-48ae-89f8-532b631d70c9\" class=\"colab-df-container\">\n",
              "    <div>\n",
              "<style scoped>\n",
              "    .dataframe tbody tr th:only-of-type {\n",
              "        vertical-align: middle;\n",
              "    }\n",
              "\n",
              "    .dataframe tbody tr th {\n",
              "        vertical-align: top;\n",
              "    }\n",
              "\n",
              "    .dataframe thead th {\n",
              "        text-align: right;\n",
              "    }\n",
              "</style>\n",
              "<table border=\"1\" class=\"dataframe\">\n",
              "  <thead>\n",
              "    <tr style=\"text-align: right;\">\n",
              "      <th></th>\n",
              "      <th>T</th>\n",
              "      <th>P0</th>\n",
              "      <th>P</th>\n",
              "      <th>U</th>\n",
              "    </tr>\n",
              "  </thead>\n",
              "  <tbody>\n",
              "    <tr>\n",
              "      <th>count</th>\n",
              "      <td>116050.000000</td>\n",
              "      <td>116049.000000</td>\n",
              "      <td>116049.000000</td>\n",
              "      <td>116048.000000</td>\n",
              "    </tr>\n",
              "    <tr>\n",
              "      <th>mean</th>\n",
              "      <td>-8.092632</td>\n",
              "      <td>748.080996</td>\n",
              "      <td>760.517001</td>\n",
              "      <td>66.698022</td>\n",
              "    </tr>\n",
              "    <tr>\n",
              "      <th>std</th>\n",
              "      <td>21.679891</td>\n",
              "      <td>6.743260</td>\n",
              "      <td>7.464018</td>\n",
              "      <td>17.645702</td>\n",
              "    </tr>\n",
              "    <tr>\n",
              "      <th>min</th>\n",
              "      <td>-50.000000</td>\n",
              "      <td>726.800000</td>\n",
              "      <td>738.100000</td>\n",
              "      <td>8.000000</td>\n",
              "    </tr>\n",
              "    <tr>\n",
              "      <th>25%</th>\n",
              "      <td>-29.000000</td>\n",
              "      <td>743.400000</td>\n",
              "      <td>755.400000</td>\n",
              "      <td>57.000000</td>\n",
              "    </tr>\n",
              "    <tr>\n",
              "      <th>50%</th>\n",
              "      <td>-4.000000</td>\n",
              "      <td>747.700000</td>\n",
              "      <td>759.700000</td>\n",
              "      <td>68.000000</td>\n",
              "    </tr>\n",
              "    <tr>\n",
              "      <th>75%</th>\n",
              "      <td>11.000000</td>\n",
              "      <td>752.400000</td>\n",
              "      <td>765.000000</td>\n",
              "      <td>78.000000</td>\n",
              "    </tr>\n",
              "    <tr>\n",
              "      <th>max</th>\n",
              "      <td>35.000000</td>\n",
              "      <td>773.400000</td>\n",
              "      <td>787.700000</td>\n",
              "      <td>100.000000</td>\n",
              "    </tr>\n",
              "  </tbody>\n",
              "</table>\n",
              "</div>\n",
              "    <div class=\"colab-df-buttons\">\n",
              "\n",
              "  <div class=\"colab-df-container\">\n",
              "    <button class=\"colab-df-convert\" onclick=\"convertToInteractive('df-3e6dff99-e944-48ae-89f8-532b631d70c9')\"\n",
              "            title=\"Convert this dataframe to an interactive table.\"\n",
              "            style=\"display:none;\">\n",
              "\n",
              "  <svg xmlns=\"http://www.w3.org/2000/svg\" height=\"24px\" viewBox=\"0 -960 960 960\">\n",
              "    <path d=\"M120-120v-720h720v720H120Zm60-500h600v-160H180v160Zm220 220h160v-160H400v160Zm0 220h160v-160H400v160ZM180-400h160v-160H180v160Zm440 0h160v-160H620v160ZM180-180h160v-160H180v160Zm440 0h160v-160H620v160Z\"/>\n",
              "  </svg>\n",
              "    </button>\n",
              "\n",
              "  <style>\n",
              "    .colab-df-container {\n",
              "      display:flex;\n",
              "      gap: 12px;\n",
              "    }\n",
              "\n",
              "    .colab-df-convert {\n",
              "      background-color: #E8F0FE;\n",
              "      border: none;\n",
              "      border-radius: 50%;\n",
              "      cursor: pointer;\n",
              "      display: none;\n",
              "      fill: #1967D2;\n",
              "      height: 32px;\n",
              "      padding: 0 0 0 0;\n",
              "      width: 32px;\n",
              "    }\n",
              "\n",
              "    .colab-df-convert:hover {\n",
              "      background-color: #E2EBFA;\n",
              "      box-shadow: 0px 1px 2px rgba(60, 64, 67, 0.3), 0px 1px 3px 1px rgba(60, 64, 67, 0.15);\n",
              "      fill: #174EA6;\n",
              "    }\n",
              "\n",
              "    .colab-df-buttons div {\n",
              "      margin-bottom: 4px;\n",
              "    }\n",
              "\n",
              "    [theme=dark] .colab-df-convert {\n",
              "      background-color: #3B4455;\n",
              "      fill: #D2E3FC;\n",
              "    }\n",
              "\n",
              "    [theme=dark] .colab-df-convert:hover {\n",
              "      background-color: #434B5C;\n",
              "      box-shadow: 0px 1px 3px 1px rgba(0, 0, 0, 0.15);\n",
              "      filter: drop-shadow(0px 1px 2px rgba(0, 0, 0, 0.3));\n",
              "      fill: #FFFFFF;\n",
              "    }\n",
              "  </style>\n",
              "\n",
              "    <script>\n",
              "      const buttonEl =\n",
              "        document.querySelector('#df-3e6dff99-e944-48ae-89f8-532b631d70c9 button.colab-df-convert');\n",
              "      buttonEl.style.display =\n",
              "        google.colab.kernel.accessAllowed ? 'block' : 'none';\n",
              "\n",
              "      async function convertToInteractive(key) {\n",
              "        const element = document.querySelector('#df-3e6dff99-e944-48ae-89f8-532b631d70c9');\n",
              "        const dataTable =\n",
              "          await google.colab.kernel.invokeFunction('convertToInteractive',\n",
              "                                                    [key], {});\n",
              "        if (!dataTable) return;\n",
              "\n",
              "        const docLinkHtml = 'Like what you see? Visit the ' +\n",
              "          '<a target=\"_blank\" href=https://colab.research.google.com/notebooks/data_table.ipynb>data table notebook</a>'\n",
              "          + ' to learn more about interactive tables.';\n",
              "        element.innerHTML = '';\n",
              "        dataTable['output_type'] = 'display_data';\n",
              "        await google.colab.output.renderOutput(dataTable, element);\n",
              "        const docLink = document.createElement('div');\n",
              "        docLink.innerHTML = docLinkHtml;\n",
              "        element.appendChild(docLink);\n",
              "      }\n",
              "    </script>\n",
              "  </div>\n",
              "\n",
              "\n",
              "<div id=\"df-87cd497d-c244-4193-a4dd-3f9d64fb518c\">\n",
              "  <button class=\"colab-df-quickchart\" onclick=\"quickchart('df-87cd497d-c244-4193-a4dd-3f9d64fb518c')\"\n",
              "            title=\"Suggest charts\"\n",
              "            style=\"display:none;\">\n",
              "\n",
              "<svg xmlns=\"http://www.w3.org/2000/svg\" height=\"24px\"viewBox=\"0 0 24 24\"\n",
              "     width=\"24px\">\n",
              "    <g>\n",
              "        <path d=\"M19 3H5c-1.1 0-2 .9-2 2v14c0 1.1.9 2 2 2h14c1.1 0 2-.9 2-2V5c0-1.1-.9-2-2-2zM9 17H7v-7h2v7zm4 0h-2V7h2v10zm4 0h-2v-4h2v4z\"/>\n",
              "    </g>\n",
              "</svg>\n",
              "  </button>\n",
              "\n",
              "<style>\n",
              "  .colab-df-quickchart {\n",
              "      --bg-color: #E8F0FE;\n",
              "      --fill-color: #1967D2;\n",
              "      --hover-bg-color: #E2EBFA;\n",
              "      --hover-fill-color: #174EA6;\n",
              "      --disabled-fill-color: #AAA;\n",
              "      --disabled-bg-color: #DDD;\n",
              "  }\n",
              "\n",
              "  [theme=dark] .colab-df-quickchart {\n",
              "      --bg-color: #3B4455;\n",
              "      --fill-color: #D2E3FC;\n",
              "      --hover-bg-color: #434B5C;\n",
              "      --hover-fill-color: #FFFFFF;\n",
              "      --disabled-bg-color: #3B4455;\n",
              "      --disabled-fill-color: #666;\n",
              "  }\n",
              "\n",
              "  .colab-df-quickchart {\n",
              "    background-color: var(--bg-color);\n",
              "    border: none;\n",
              "    border-radius: 50%;\n",
              "    cursor: pointer;\n",
              "    display: none;\n",
              "    fill: var(--fill-color);\n",
              "    height: 32px;\n",
              "    padding: 0;\n",
              "    width: 32px;\n",
              "  }\n",
              "\n",
              "  .colab-df-quickchart:hover {\n",
              "    background-color: var(--hover-bg-color);\n",
              "    box-shadow: 0 1px 2px rgba(60, 64, 67, 0.3), 0 1px 3px 1px rgba(60, 64, 67, 0.15);\n",
              "    fill: var(--button-hover-fill-color);\n",
              "  }\n",
              "\n",
              "  .colab-df-quickchart-complete:disabled,\n",
              "  .colab-df-quickchart-complete:disabled:hover {\n",
              "    background-color: var(--disabled-bg-color);\n",
              "    fill: var(--disabled-fill-color);\n",
              "    box-shadow: none;\n",
              "  }\n",
              "\n",
              "  .colab-df-spinner {\n",
              "    border: 2px solid var(--fill-color);\n",
              "    border-color: transparent;\n",
              "    border-bottom-color: var(--fill-color);\n",
              "    animation:\n",
              "      spin 1s steps(1) infinite;\n",
              "  }\n",
              "\n",
              "  @keyframes spin {\n",
              "    0% {\n",
              "      border-color: transparent;\n",
              "      border-bottom-color: var(--fill-color);\n",
              "      border-left-color: var(--fill-color);\n",
              "    }\n",
              "    20% {\n",
              "      border-color: transparent;\n",
              "      border-left-color: var(--fill-color);\n",
              "      border-top-color: var(--fill-color);\n",
              "    }\n",
              "    30% {\n",
              "      border-color: transparent;\n",
              "      border-left-color: var(--fill-color);\n",
              "      border-top-color: var(--fill-color);\n",
              "      border-right-color: var(--fill-color);\n",
              "    }\n",
              "    40% {\n",
              "      border-color: transparent;\n",
              "      border-right-color: var(--fill-color);\n",
              "      border-top-color: var(--fill-color);\n",
              "    }\n",
              "    60% {\n",
              "      border-color: transparent;\n",
              "      border-right-color: var(--fill-color);\n",
              "    }\n",
              "    80% {\n",
              "      border-color: transparent;\n",
              "      border-right-color: var(--fill-color);\n",
              "      border-bottom-color: var(--fill-color);\n",
              "    }\n",
              "    90% {\n",
              "      border-color: transparent;\n",
              "      border-bottom-color: var(--fill-color);\n",
              "    }\n",
              "  }\n",
              "</style>\n",
              "\n",
              "  <script>\n",
              "    async function quickchart(key) {\n",
              "      const quickchartButtonEl =\n",
              "        document.querySelector('#' + key + ' button');\n",
              "      quickchartButtonEl.disabled = true;  // To prevent multiple clicks.\n",
              "      quickchartButtonEl.classList.add('colab-df-spinner');\n",
              "      try {\n",
              "        const charts = await google.colab.kernel.invokeFunction(\n",
              "            'suggestCharts', [key], {});\n",
              "      } catch (error) {\n",
              "        console.error('Error during call to suggestCharts:', error);\n",
              "      }\n",
              "      quickchartButtonEl.classList.remove('colab-df-spinner');\n",
              "      quickchartButtonEl.classList.add('colab-df-quickchart-complete');\n",
              "    }\n",
              "    (() => {\n",
              "      let quickchartButtonEl =\n",
              "        document.querySelector('#df-87cd497d-c244-4193-a4dd-3f9d64fb518c button');\n",
              "      quickchartButtonEl.style.display =\n",
              "        google.colab.kernel.accessAllowed ? 'block' : 'none';\n",
              "    })();\n",
              "  </script>\n",
              "</div>\n",
              "    </div>\n",
              "  </div>\n"
            ]
          },
          "metadata": {},
          "execution_count": 15
        }
      ]
    },
    {
      "cell_type": "code",
      "source": [
        "df.info()"
      ],
      "metadata": {
        "colab": {
          "base_uri": "https://localhost:8080/"
        },
        "id": "TKl62dKMmV-r",
        "outputId": "5bcca502-a7ce-4eec-f150-5aefca92f766"
      },
      "execution_count": 16,
      "outputs": [
        {
          "output_type": "stream",
          "name": "stdout",
          "text": [
            "<class 'pandas.core.frame.DataFrame'>\n",
            "RangeIndex: 116051 entries, 0 to 116050\n",
            "Data columns (total 5 columns):\n",
            " #   Column     Non-Null Count   Dtype  \n",
            "---  ------     --------------   -----  \n",
            " 0   LocalTime  116051 non-null  object \n",
            " 1   T          116050 non-null  float64\n",
            " 2   P0         116049 non-null  float64\n",
            " 3   P          116049 non-null  float64\n",
            " 4   U          116048 non-null  float64\n",
            "dtypes: float64(4), object(1)\n",
            "memory usage: 4.4+ MB\n"
          ]
        }
      ]
    },
    {
      "cell_type": "code",
      "source": [
        "df.hist()"
      ],
      "metadata": {
        "colab": {
          "base_uri": "https://localhost:8080/",
          "height": 508
        },
        "id": "nR8waPBimYu_",
        "outputId": "eeb48ca4-3328-4b74-eb7c-774fc8323b13"
      },
      "execution_count": 17,
      "outputs": [
        {
          "output_type": "execute_result",
          "data": {
            "text/plain": [
              "array([[<Axes: title={'center': 'T'}>, <Axes: title={'center': 'P0'}>],\n",
              "       [<Axes: title={'center': 'P'}>, <Axes: title={'center': 'U'}>]],\n",
              "      dtype=object)"
            ]
          },
          "metadata": {},
          "execution_count": 17
        },
        {
          "output_type": "display_data",
          "data": {
            "text/plain": [
              "<Figure size 640x480 with 4 Axes>"
            ],
            "image/png": "[encoded data removed]"
          },
          "metadata": {}
        }
      ]
    },
    {
      "cell_type": "code",
      "source": [
        "df = df[['LocalTime','T']]\n",
        "df.head()"
      ],
      "metadata": {
        "colab": {
          "base_uri": "https://localhost:8080/",
          "height": 206
        },
        "id": "8d9W9nmdw7MM",
        "outputId": "a1420966-1d91-4c45-dbb4-16bf30529897"
      },
      "execution_count": 18,
      "outputs": [
        {
          "output_type": "execute_result",
          "data": {
            "text/plain": [
              "          LocalTime    T\n",
              "0  19.10.2020 17:00 -7.0\n",
              "1  19.10.2020 16:30 -6.0\n",
              "2  19.10.2020 16:00 -5.0\n",
              "3  19.10.2020 15:30 -4.0\n",
              "4  19.10.2020 15:00 -4.0"
            ],
            "text/html": [
              "\n",
              "  <div id=\"df-cb6bd2c0-a456-4f7a-b5db-96da9d2140b1\" class=\"colab-df-container\">\n",
              "    <div>\n",
              "<style scoped>\n",
              "    .dataframe tbody tr th:only-of-type {\n",
              "        vertical-align: middle;\n",
              "    }\n",
              "\n",
              "    .dataframe tbody tr th {\n",
              "        vertical-align: top;\n",
              "    }\n",
              "\n",
              "    .dataframe thead th {\n",
              "        text-align: right;\n",
              "    }\n",
              "</style>\n",
              "<table border=\"1\" class=\"dataframe\">\n",
              "  <thead>\n",
              "    <tr style=\"text-align: right;\">\n",
              "      <th></th>\n",
              "      <th>LocalTime</th>\n",
              "      <th>T</th>\n",
              "    </tr>\n",
              "  </thead>\n",
              "  <tbody>\n",
              "    <tr>\n",
              "      <th>0</th>\n",
              "      <td>19.10.2020 17:00</td>\n",
              "      <td>-7.0</td>\n",
              "    </tr>\n",
              "    <tr>\n",
              "      <th>1</th>\n",
              "      <td>19.10.2020 16:30</td>\n",
              "      <td>-6.0</td>\n",
              "    </tr>\n",
              "    <tr>\n",
              "      <th>2</th>\n",
              "      <td>19.10.2020 16:00</td>\n",
              "      <td>-5.0</td>\n",
              "    </tr>\n",
              "    <tr>\n",
              "      <th>3</th>\n",
              "      <td>19.10.2020 15:30</td>\n",
              "      <td>-4.0</td>\n",
              "    </tr>\n",
              "    <tr>\n",
              "      <th>4</th>\n",
              "      <td>19.10.2020 15:00</td>\n",
              "      <td>-4.0</td>\n",
              "    </tr>\n",
              "  </tbody>\n",
              "</table>\n",
              "</div>\n",
              "    <div class=\"colab-df-buttons\">\n",
              "\n",
              "  <div class=\"colab-df-container\">\n",
              "    <button class=\"colab-df-convert\" onclick=\"convertToInteractive('df-cb6bd2c0-a456-4f7a-b5db-96da9d2140b1')\"\n",
              "            title=\"Convert this dataframe to an interactive table.\"\n",
              "            style=\"display:none;\">\n",
              "\n",
              "  <svg xmlns=\"http://www.w3.org/2000/svg\" height=\"24px\" viewBox=\"0 -960 960 960\">\n",
              "    <path d=\"M120-120v-720h720v720H120Zm60-500h600v-160H180v160Zm220 220h160v-160H400v160Zm0 220h160v-160H400v160ZM180-400h160v-160H180v160Zm440 0h160v-160H620v160ZM180-180h160v-160H180v160Zm440 0h160v-160H620v160Z\"/>\n",
              "  </svg>\n",
              "    </button>\n",
              "\n",
              "  <style>\n",
              "    .colab-df-container {\n",
              "      display:flex;\n",
              "      gap: 12px;\n",
              "    }\n",
              "\n",
              "    .colab-df-convert {\n",
              "      background-color: #E8F0FE;\n",
              "      border: none;\n",
              "      border-radius: 50%;\n",
              "      cursor: pointer;\n",
              "      display: none;\n",
              "      fill: #1967D2;\n",
              "      height: 32px;\n",
              "      padding: 0 0 0 0;\n",
              "      width: 32px;\n",
              "    }\n",
              "\n",
              "    .colab-df-convert:hover {\n",
              "      background-color: #E2EBFA;\n",
              "      box-shadow: 0px 1px 2px rgba(60, 64, 67, 0.3), 0px 1px 3px 1px rgba(60, 64, 67, 0.15);\n",
              "      fill: #174EA6;\n",
              "    }\n",
              "\n",
              "    .colab-df-buttons div {\n",
              "      margin-bottom: 4px;\n",
              "    }\n",
              "\n",
              "    [theme=dark] .colab-df-convert {\n",
              "      background-color: #3B4455;\n",
              "      fill: #D2E3FC;\n",
              "    }\n",
              "\n",
              "    [theme=dark] .colab-df-convert:hover {\n",
              "      background-color: #434B5C;\n",
              "      box-shadow: 0px 1px 3px 1px rgba(0, 0, 0, 0.15);\n",
              "      filter: drop-shadow(0px 1px 2px rgba(0, 0, 0, 0.3));\n",
              "      fill: #FFFFFF;\n",
              "    }\n",
              "  </style>\n",
              "\n",
              "    <script>\n",
              "      const buttonEl =\n",
              "        document.querySelector('#df-cb6bd2c0-a456-4f7a-b5db-96da9d2140b1 button.colab-df-convert');\n",
              "      buttonEl.style.display =\n",
              "        google.colab.kernel.accessAllowed ? 'block' : 'none';\n",
              "\n",
              "      async function convertToInteractive(key) {\n",
              "        const element = document.querySelector('#df-cb6bd2c0-a456-4f7a-b5db-96da9d2140b1');\n",
              "        const dataTable =\n",
              "          await google.colab.kernel.invokeFunction('convertToInteractive',\n",
              "                                                    [key], {});\n",
              "        if (!dataTable) return;\n",
              "\n",
              "        const docLinkHtml = 'Like what you see? Visit the ' +\n",
              "          '<a target=\"_blank\" href=https://colab.research.google.com/notebooks/data_table.ipynb>data table notebook</a>'\n",
              "          + ' to learn more about interactive tables.';\n",
              "        element.innerHTML = '';\n",
              "        dataTable['output_type'] = 'display_data';\n",
              "        await google.colab.output.renderOutput(dataTable, element);\n",
              "        const docLink = document.createElement('div');\n",
              "        docLink.innerHTML = docLinkHtml;\n",
              "        element.appendChild(docLink);\n",
              "      }\n",
              "    </script>\n",
              "  </div>\n",
              "\n",
              "\n",
              "<div id=\"df-3f55d1c7-7d7f-42ea-ab3f-b1ac1bda55dc\">\n",
              "  <button class=\"colab-df-quickchart\" onclick=\"quickchart('df-3f55d1c7-7d7f-42ea-ab3f-b1ac1bda55dc')\"\n",
              "            title=\"Suggest charts\"\n",
              "            style=\"display:none;\">\n",
              "\n",
              "<svg xmlns=\"http://www.w3.org/2000/svg\" height=\"24px\"viewBox=\"0 0 24 24\"\n",
              "     width=\"24px\">\n",
              "    <g>\n",
              "        <path d=\"M19 3H5c-1.1 0-2 .9-2 2v14c0 1.1.9 2 2 2h14c1.1 0 2-.9 2-2V5c0-1.1-.9-2-2-2zM9 17H7v-7h2v7zm4 0h-2V7h2v10zm4 0h-2v-4h2v4z\"/>\n",
              "    </g>\n",
              "</svg>\n",
              "  </button>\n",
              "\n",
              "<style>\n",
              "  .colab-df-quickchart {\n",
              "      --bg-color: #E8F0FE;\n",
              "      --fill-color: #1967D2;\n",
              "      --hover-bg-color: #E2EBFA;\n",
              "      --hover-fill-color: #174EA6;\n",
              "      --disabled-fill-color: #AAA;\n",
              "      --disabled-bg-color: #DDD;\n",
              "  }\n",
              "\n",
              "  [theme=dark] .colab-df-quickchart {\n",
              "      --bg-color: #3B4455;\n",
              "      --fill-color: #D2E3FC;\n",
              "      --hover-bg-color: #434B5C;\n",
              "      --hover-fill-color: #FFFFFF;\n",
              "      --disabled-bg-color: #3B4455;\n",
              "      --disabled-fill-color: #666;\n",
              "  }\n",
              "\n",
              "  .colab-df-quickchart {\n",
              "    background-color: var(--bg-color);\n",
              "    border: none;\n",
              "    border-radius: 50%;\n",
              "    cursor: pointer;\n",
              "    display: none;\n",
              "    fill: var(--fill-color);\n",
              "    height: 32px;\n",
              "    padding: 0;\n",
              "    width: 32px;\n",
              "  }\n",
              "\n",
              "  .colab-df-quickchart:hover {\n",
              "    background-color: var(--hover-bg-color);\n",
              "    box-shadow: 0 1px 2px rgba(60, 64, 67, 0.3), 0 1px 3px 1px rgba(60, 64, 67, 0.15);\n",
              "    fill: var(--button-hover-fill-color);\n",
              "  }\n",
              "\n",
              "  .colab-df-quickchart-complete:disabled,\n",
              "  .colab-df-quickchart-complete:disabled:hover {\n",
              "    background-color: var(--disabled-bg-color);\n",
              "    fill: var(--disabled-fill-color);\n",
              "    box-shadow: none;\n",
              "  }\n",
              "\n",
              "  .colab-df-spinner {\n",
              "    border: 2px solid var(--fill-color);\n",
              "    border-color: transparent;\n",
              "    border-bottom-color: var(--fill-color);\n",
              "    animation:\n",
              "      spin 1s steps(1) infinite;\n",
              "  }\n",
              "\n",
              "  @keyframes spin {\n",
              "    0% {\n",
              "      border-color: transparent;\n",
              "      border-bottom-color: var(--fill-color);\n",
              "      border-left-color: var(--fill-color);\n",
              "    }\n",
              "    20% {\n",
              "      border-color: transparent;\n",
              "      border-left-color: var(--fill-color);\n",
              "      border-top-color: var(--fill-color);\n",
              "    }\n",
              "    30% {\n",
              "      border-color: transparent;\n",
              "      border-left-color: var(--fill-color);\n",
              "      border-top-color: var(--fill-color);\n",
              "      border-right-color: var(--fill-color);\n",
              "    }\n",
              "    40% {\n",
              "      border-color: transparent;\n",
              "      border-right-color: var(--fill-color);\n",
              "      border-top-color: var(--fill-color);\n",
              "    }\n",
              "    60% {\n",
              "      border-color: transparent;\n",
              "      border-right-color: var(--fill-color);\n",
              "    }\n",
              "    80% {\n",
              "      border-color: transparent;\n",
              "      border-right-color: var(--fill-color);\n",
              "      border-bottom-color: var(--fill-color);\n",
              "    }\n",
              "    90% {\n",
              "      border-color: transparent;\n",
              "      border-bottom-color: var(--fill-color);\n",
              "    }\n",
              "  }\n",
              "</style>\n",
              "\n",
              "  <script>\n",
              "    async function quickchart(key) {\n",
              "      const quickchartButtonEl =\n",
              "        document.querySelector('#' + key + ' button');\n",
              "      quickchartButtonEl.disabled = true;  // To prevent multiple clicks.\n",
              "      quickchartButtonEl.classList.add('colab-df-spinner');\n",
              "      try {\n",
              "        const charts = await google.colab.kernel.invokeFunction(\n",
              "            'suggestCharts', [key], {});\n",
              "      } catch (error) {\n",
              "        console.error('Error during call to suggestCharts:', error);\n",
              "      }\n",
              "      quickchartButtonEl.classList.remove('colab-df-spinner');\n",
              "      quickchartButtonEl.classList.add('colab-df-quickchart-complete');\n",
              "    }\n",
              "    (() => {\n",
              "      let quickchartButtonEl =\n",
              "        document.querySelector('#df-3f55d1c7-7d7f-42ea-ab3f-b1ac1bda55dc button');\n",
              "      quickchartButtonEl.style.display =\n",
              "        google.colab.kernel.accessAllowed ? 'block' : 'none';\n",
              "    })();\n",
              "  </script>\n",
              "</div>\n",
              "    </div>\n",
              "  </div>\n"
            ]
          },
          "metadata": {},
          "execution_count": 18
        }
      ]
    },
    {
      "cell_type": "code",
      "source": [
        "df.isna().sum()"
      ],
      "metadata": {
        "colab": {
          "base_uri": "https://localhost:8080/"
        },
        "id": "AMvnMzC8xApX",
        "outputId": "440b75b0-1633-492f-e8b1-5e7376da3f37"
      },
      "execution_count": 19,
      "outputs": [
        {
          "output_type": "execute_result",
          "data": {
            "text/plain": [
              "LocalTime    0\n",
              "T            1\n",
              "dtype: int64"
            ]
          },
          "metadata": {},
          "execution_count": 19
        }
      ]
    },
    {
      "cell_type": "code",
      "source": [
        "df.dropna(inplace=True)"
      ],
      "metadata": {
        "id": "ZO1B9pu6xDl0"
      },
      "execution_count": 20,
      "outputs": []
    },
    {
      "cell_type": "code",
      "source": [
        "df.isna().sum()"
      ],
      "metadata": {
        "colab": {
          "base_uri": "https://localhost:8080/"
        },
        "id": "bmgp_mkGxHq_",
        "outputId": "d50c2bf3-d742-4e59-8817-f9132632b8e3"
      },
      "execution_count": 21,
      "outputs": [
        {
          "output_type": "execute_result",
          "data": {
            "text/plain": [
              "LocalTime    0\n",
              "T            0\n",
              "dtype: int64"
            ]
          },
          "metadata": {},
          "execution_count": 21
        }
      ]
    },
    {
      "cell_type": "code",
      "source": [
        "plt.plot(range(1,len(df['T'].values)+1),df['T'].values)"
      ],
      "metadata": {
        "colab": {
          "base_uri": "https://localhost:8080/",
          "height": 449
        },
        "id": "SdzFuInixas_",
        "outputId": "5a56d5c7-1840-4b25-d46f-be41d7d77dbc"
      },
      "execution_count": 22,
      "outputs": [
        {
          "output_type": "execute_result",
          "data": {
            "text/plain": [
              "[<matplotlib.lines.Line2D at 0x7a5093070760>]"
            ]
          },
          "metadata": {},
          "execution_count": 22
        },
        {
          "output_type": "display_data",
          "data": {
            "text/plain": [
              "<Figure size 640x480 with 1 Axes>"
            ],
            "image/png": "[encoded data removed]"
          },
          "metadata": {}
        }
      ]
    },
    {
      "cell_type": "code",
      "source": [
        "# Extract and normalize the target column\n",
        "min_max_scaler = MinMaxScaler()\n",
        "df = df['T'].values\n",
        "df = min_max_scaler.fit_transform(df.reshape(-1, 1))"
      ],
      "metadata": {
        "id": "W4QblOIuxj2q"
      },
      "execution_count": 23,
      "outputs": []
    },
    {
      "cell_type": "code",
      "source": [
        "df.shape"
      ],
      "metadata": {
        "colab": {
          "base_uri": "https://localhost:8080/"
        },
        "id": "uIgoco8Uxqg8",
        "outputId": "77df2e60-c3e1-4096-de8f-31625872e883"
      },
      "execution_count": 24,
      "outputs": [
        {
          "output_type": "execute_result",
          "data": {
            "text/plain": [
              "(116050, 1)"
            ]
          },
          "metadata": {},
          "execution_count": 24
        }
      ]
    },
    {
      "cell_type": "code",
      "source": [
        "# Flatten the data shape\n",
        "df = df.flatten()\n",
        "df.shape"
      ],
      "metadata": {
        "colab": {
          "base_uri": "https://localhost:8080/"
        },
        "id": "gtD_KflGxuJ-",
        "outputId": "7ec3351e-c060-4c6a-bff3-3a08fb6bf247"
      },
      "execution_count": 25,
      "outputs": [
        {
          "output_type": "execute_result",
          "data": {
            "text/plain": [
              "(116050,)"
            ]
          },
          "metadata": {},
          "execution_count": 25
        }
      ]
    },
    {
      "cell_type": "markdown",
      "source": [
        "## Split data to train, test, and validation"
      ],
      "metadata": {
        "id": "L3VechNGnY96"
      }
    },
    {
      "cell_type": "code",
      "source": [
        "window = 15\n",
        "\n",
        "# Calculate the number of samples for training, validation, and test sets\n",
        "n_samples = df.shape[0] - window\n",
        "n_train_samples = round(0.7 * n_samples)\n",
        "n_val_samples = round(0.15 * n_samples)\n",
        "n_test_samples = n_samples - n_train_samples - n_val_samples\n",
        "\n",
        "print('Train = ',n_train_samples,'Validation = ',n_val_samples,'Test = ',n_test_samples)"
      ],
      "metadata": {
        "colab": {
          "base_uri": "https://localhost:8080/"
        },
        "id": "dw6SU4fGxzuX",
        "outputId": "cebeb721-f53f-45c7-a48a-ff8adee73097"
      },
      "execution_count": 26,
      "outputs": [
        {
          "output_type": "stream",
          "name": "stdout",
          "text": [
            "Train =  81224 Validation =  17405 Test =  17406\n"
          ]
        }
      ]
    },
    {
      "cell_type": "code",
      "source": [
        "# Function to create input-output pairs for a given set\n",
        "def create_pairs(start_index, num_samples):\n",
        "    X = [df[start_index + i : start_index + i + window] for i in range(num_samples)]\n",
        "    y = [df[start_index + i + window] for i in range(num_samples)]\n",
        "    return np.array(X), np.array(y)"
      ],
      "metadata": {
        "id": "I0aVc_hSnKC_"
      },
      "execution_count": 27,
      "outputs": []
    },
    {
      "cell_type": "code",
      "source": [
        "# Create training, validation, and test sets\n",
        "X_train, y_train = create_pairs(0, n_train_samples)\n",
        "X_val, y_val = create_pairs(n_train_samples, n_val_samples)\n",
        "X_test, y_test = create_pairs(n_train_samples + n_val_samples, n_test_samples)"
      ],
      "metadata": {
        "id": "4X4llkvkylix"
      },
      "execution_count": 28,
      "outputs": []
    },
    {
      "cell_type": "code",
      "source": [
        "# Reshape the data\n",
        "X_train = np.reshape(X_train, (X_train.shape[0], 1, X_train.shape[1]))\n",
        "X_val = np.reshape(X_val, (X_val.shape[0], 1, X_val.shape[1]))\n",
        "X_test = np.reshape(X_test, (X_test.shape[0], 1, X_test.shape[1]))"
      ],
      "metadata": {
        "id": "i8m6DHRbyp4a"
      },
      "execution_count": 29,
      "outputs": []
    },
    {
      "cell_type": "markdown",
      "source": [
        "# Regressor (RNN)"
      ],
      "metadata": {
        "id": "TVasSiwlysnb"
      }
    },
    {
      "cell_type": "code",
      "source": [
        "# Build the RNN model\n",
        "rnn_model = tf.keras.Sequential([\n",
        "    tf.keras.layers.SimpleRNN(10, activation='sigmoid', input_shape=(X_train.shape[1], X_train.shape[2])),\n",
        "    Dropout(0.2),\n",
        "    tf.keras.layers.Dense(1, activation='linear')\n",
        "])"
      ],
      "metadata": {
        "id": "jaD7l9LKyqS9"
      },
      "execution_count": 30,
      "outputs": []
    },
    {
      "cell_type": "code",
      "source": [
        "# Compile the RNN model\n",
        "rnn_model.compile(loss='mse',\n",
        "                  optimizer='adam',\n",
        "                  metrics='mae')"
      ],
      "metadata": {
        "id": "70F03CNwysD2"
      },
      "execution_count": 31,
      "outputs": []
    },
    {
      "cell_type": "code",
      "source": [
        "# Train the RNN model\n",
        "rnn_history = rnn_model.fit(\n",
        "    X_train,\n",
        "    y_train,\n",
        "    epochs=10,\n",
        "    batch_size=20,\n",
        "    validation_data=(X_val, y_val)\n",
        ")"
      ],
      "metadata": {
        "colab": {
          "base_uri": "https://localhost:8080/"
        },
        "id": "30tQEXQOywUn",
        "outputId": "26e6be4a-c3a3-4e44-b0d1-ea5d01f9c29a"
      },
      "execution_count": 32,
      "outputs": [
        {
          "output_type": "stream",
          "name": "stdout",
          "text": [
            "Epoch 1/10\n",
            "4062/4062 [==============================] - 15s 3ms/step - loss: 0.0359 - mae: 0.1334 - val_loss: 0.0069 - val_mae: 0.0662\n",
            "Epoch 2/10\n",
            "4062/4062 [==============================] - 12s 3ms/step - loss: 0.0103 - mae: 0.0798 - val_loss: 0.0027 - val_mae: 0.0406\n",
            "Epoch 3/10\n",
            "4062/4062 [==============================] - 12s 3ms/step - loss: 0.0062 - mae: 0.0616 - val_loss: 0.0011 - val_mae: 0.0257\n",
            "Epoch 4/10\n",
            "4062/4062 [==============================] - 13s 3ms/step - loss: 0.0049 - mae: 0.0539 - val_loss: 0.0011 - val_mae: 0.0274\n",
            "Epoch 5/10\n",
            "4062/4062 [==============================] - 12s 3ms/step - loss: 0.0045 - mae: 0.0511 - val_loss: 7.1738e-04 - val_mae: 0.0217\n",
            "Epoch 6/10\n",
            "4062/4062 [==============================] - 13s 3ms/step - loss: 0.0042 - mae: 0.0497 - val_loss: 7.1133e-04 - val_mae: 0.0215\n",
            "Epoch 7/10\n",
            "4062/4062 [==============================] - 12s 3ms/step - loss: 0.0041 - mae: 0.0490 - val_loss: 5.6993e-04 - val_mae: 0.0193\n",
            "Epoch 8/10\n",
            "4062/4062 [==============================] - 12s 3ms/step - loss: 0.0041 - mae: 0.0485 - val_loss: 9.6330e-04 - val_mae: 0.0256\n",
            "Epoch 9/10\n",
            "4062/4062 [==============================] - 13s 3ms/step - loss: 0.0040 - mae: 0.0479 - val_loss: 6.7999e-04 - val_mae: 0.0216\n",
            "Epoch 10/10\n",
            "4062/4062 [==============================] - 13s 3ms/step - loss: 0.0040 - mae: 0.0477 - val_loss: 8.5757e-04 - val_mae: 0.0243\n"
          ]
        }
      ]
    },
    {
      "cell_type": "markdown",
      "source": [
        "## MSE, MAE R2"
      ],
      "metadata": {
        "id": "TH-ZsKUD4vvN"
      }
    },
    {
      "cell_type": "code",
      "source": [
        "# Get R2, MSE, & MAE scores\n",
        "y_pred = rnn_model.predict(X_test)\n",
        "\n",
        "mse = mean_squared_error(y_test, y_pred)\n",
        "\n",
        "mae = mean_absolute_error(y_test, y_pred)\n",
        "\n",
        "r2 = r2_score(y_test, y_pred)\n",
        "\n",
        "print(f\"MSE: {mse:.2f}\")\n",
        "print(f\"MAE: {mae:.2f}\")\n",
        "print(f\"R-squared (R^2): {r2:.2f}\")"
      ],
      "metadata": {
        "colab": {
          "base_uri": "https://localhost:8080/"
        },
        "id": "59mg-mT5yxyi",
        "outputId": "ab7ee120-d278-4634-f195-da949a04d6c5"
      },
      "execution_count": 33,
      "outputs": [
        {
          "output_type": "stream",
          "name": "stdout",
          "text": [
            "544/544 [==============================] - 1s 2ms/step\n",
            "MSE: 0.00\n",
            "MAE: 0.02\n",
            "R-squared (R^2): 0.99\n"
          ]
        }
      ]
    },
    {
      "cell_type": "code",
      "source": [
        "# Visualize the mean absolute error\n",
        "mae = rnn_history.history['mae']\n",
        "val_mae = rnn_history.history['val_mae']\n",
        "epochs = range(1,len(mae)+1)\n",
        "\n",
        "plt.title('Mean Absolute Error')\n",
        "plt.plot(epochs,mae,label='Train')\n",
        "plt.plot(epochs,val_mae,color='red',label='Validation')\n",
        "plt.xlabel('Epochs')\n",
        "plt.ylabel('MAE')\n",
        "plt.legend()\n",
        "plt.show()"
      ],
      "metadata": {
        "colab": {
          "base_uri": "https://localhost:8080/",
          "height": 472
        },
        "id": "QMGNKtBNy1G5",
        "outputId": "25e4922d-1e88-4321-af54-609a151df662"
      },
      "execution_count": 34,
      "outputs": [
        {
          "output_type": "display_data",
          "data": {
            "text/plain": [
              "<Figure size 640x480 with 1 Axes>"
            ],
            "image/png": "[encoded data removed]"
          },
          "metadata": {}
        }
      ]
    },
    {
      "cell_type": "markdown",
      "source": [
        "## Predict"
      ],
      "metadata": {
        "id": "JKJzUS_u4soC"
      }
    },
    {
      "cell_type": "code",
      "source": [
        "# Predict using test sets\n",
        "y_pred = rnn_model.predict(X_test)\n",
        "y_pred_inv = min_max_scaler.inverse_transform(y_pred)\n",
        "y_test_inv = min_max_scaler.inverse_transform(y_test.reshape(-1,1))\n",
        "\n",
        "print('MAE = ',round(mean_absolute_error(y_true=y_test_inv,y_pred=y_pred_inv),3),' degrees')\n",
        "print('R2-score = ',round(r2_score(y_test_inv,y_pred_inv),3))"
      ],
      "metadata": {
        "colab": {
          "base_uri": "https://localhost:8080/"
        },
        "id": "i7Er7VMI36M-",
        "outputId": "c0bae10b-d8e9-45a0-b1dc-6bbbb1f2081c"
      },
      "execution_count": 37,
      "outputs": [
        {
          "output_type": "stream",
          "name": "stdout",
          "text": [
            "544/544 [==============================] - 2s 3ms/step\n",
            "MAE =  2.083  degrees\n",
            "R2-score =  0.985\n"
          ]
        }
      ]
    },
    {
      "cell_type": "code",
      "source": [
        "# Visualize prediction\n",
        "plt.plot(range(1,len(y_test_inv)+1),y_test_inv)\n",
        "plt.plot(range(1,len(y_pred_inv)+1),y_pred_inv)"
      ],
      "metadata": {
        "colab": {
          "base_uri": "https://localhost:8080/",
          "height": 449
        },
        "id": "cX0lemLe386s",
        "outputId": "d94976bc-2d57-4698-9029-2371cf97e714"
      },
      "execution_count": 38,
      "outputs": [
        {
          "output_type": "execute_result",
          "data": {
            "text/plain": [
              "[<matplotlib.lines.Line2D at 0x7a508c162890>]"
            ]
          },
          "metadata": {},
          "execution_count": 38
        },
        {
          "output_type": "display_data",
          "data": {
            "text/plain": [
              "<Figure size 640x480 with 1 Axes>"
            ],
            "image/png": "[encoded data removed]"
          },
          "metadata": {}
        }
      ]
    },
    {
      "cell_type": "markdown",
      "source": [
        "# Регрессор (LSTM)"
      ],
      "metadata": {
        "id": "C2EFSEPf4zhq"
      }
    },
    {
      "cell_type": "code",
      "source": [
        "# Build the LSTM model\n",
        "lstm_model = tf.keras.Sequential([\n",
        "    tf.keras.layers.LSTM(10, activation='sigmoid', input_shape=(X_train.shape[1], X_train.shape[2])),\n",
        "    Dropout(0.2),\n",
        "    tf.keras.layers.Dense(1, activation='relu')\n",
        "])"
      ],
      "metadata": {
        "id": "uUUi_7wk44El"
      },
      "execution_count": 39,
      "outputs": []
    },
    {
      "cell_type": "code",
      "source": [
        "# Compile the LSTM model\n",
        "lstm_model.compile(loss='mse',\n",
        "                  optimizer='adam',\n",
        "                  metrics='mae')"
      ],
      "metadata": {
        "id": "0Ez61IUO47pc"
      },
      "execution_count": 40,
      "outputs": []
    },
    {
      "cell_type": "code",
      "source": [
        "# Train the LSTM model\n",
        "lstm_history = lstm_model.fit(\n",
        "    X_train,\n",
        "    y_train,\n",
        "    epochs=10,\n",
        "    batch_size=20,\n",
        "    validation_data=(X_val, y_val)\n",
        ")"
      ],
      "metadata": {
        "colab": {
          "base_uri": "https://localhost:8080/"
        },
        "id": "x8q5BSMq484N",
        "outputId": "2e8a1223-c39d-4ea4-b28e-6d79e5e16a7c"
      },
      "execution_count": 41,
      "outputs": [
        {
          "output_type": "stream",
          "name": "stdout",
          "text": [
            "Epoch 1/10\n",
            "4062/4062 [==============================] - 16s 4ms/step - loss: 0.0166 - mae: 0.0965 - val_loss: 0.0038 - val_mae: 0.0498\n",
            "Epoch 2/10\n",
            "4062/4062 [==============================] - 13s 3ms/step - loss: 0.0073 - mae: 0.0665 - val_loss: 0.0017 - val_mae: 0.0321\n",
            "Epoch 3/10\n",
            "4062/4062 [==============================] - 14s 3ms/step - loss: 0.0051 - mae: 0.0552 - val_loss: 9.8784e-04 - val_mae: 0.0245\n",
            "Epoch 4/10\n",
            "4062/4062 [==============================] - 13s 3ms/step - loss: 0.0044 - mae: 0.0506 - val_loss: 8.9978e-04 - val_mae: 0.0237\n",
            "Epoch 5/10\n",
            "4062/4062 [==============================] - 14s 3ms/step - loss: 0.0041 - mae: 0.0487 - val_loss: 0.0011 - val_mae: 0.0268\n",
            "Epoch 6/10\n",
            "4062/4062 [==============================] - 15s 4ms/step - loss: 0.0040 - mae: 0.0474 - val_loss: 6.4596e-04 - val_mae: 0.0201\n",
            "Epoch 7/10\n",
            "4062/4062 [==============================] - 14s 3ms/step - loss: 0.0039 - mae: 0.0471 - val_loss: 7.2043e-04 - val_mae: 0.0215\n",
            "Epoch 8/10\n",
            "4062/4062 [==============================] - 14s 3ms/step - loss: 0.0039 - mae: 0.0465 - val_loss: 6.6806e-04 - val_mae: 0.0207\n",
            "Epoch 9/10\n",
            "4062/4062 [==============================] - 14s 3ms/step - loss: 0.0038 - mae: 0.0460 - val_loss: 6.1177e-04 - val_mae: 0.0198\n",
            "Epoch 10/10\n",
            "4062/4062 [==============================] - 14s 3ms/step - loss: 0.0037 - mae: 0.0457 - val_loss: 4.7205e-04 - val_mae: 0.0172\n"
          ]
        }
      ]
    },
    {
      "cell_type": "markdown",
      "source": [
        "## MSE, MAE, R2"
      ],
      "metadata": {
        "id": "764ZMJtRDbn_"
      }
    },
    {
      "cell_type": "code",
      "source": [
        "# Get R2, MSE, & MAE scores\n",
        "y_pred = lstm_model.predict(X_test)\n",
        "\n",
        "mse = mean_squared_error(y_test, y_pred)\n",
        "\n",
        "mae = mean_absolute_error(y_test, y_pred)\n",
        "\n",
        "r2 = r2_score(y_test, y_pred)\n",
        "\n",
        "print(f\"MSE: {mse:.2f}\")\n",
        "print(f\"MAE: {mae:.2f}\")\n",
        "print(f\"R-squared (R^2): {r2:.2f}\")"
      ],
      "metadata": {
        "colab": {
          "base_uri": "https://localhost:8080/"
        },
        "id": "eQYGvqVI4-E2",
        "outputId": "a94f03ed-b744-44e0-f084-fbf706ea266c"
      },
      "execution_count": 42,
      "outputs": [
        {
          "output_type": "stream",
          "name": "stdout",
          "text": [
            "544/544 [==============================] - 1s 2ms/step\n",
            "MSE: 0.00\n",
            "MAE: 0.02\n",
            "R-squared (R^2): 0.99\n"
          ]
        }
      ]
    },
    {
      "cell_type": "code",
      "source": [
        "# Visualize the mean absolute error\n",
        "mae = lstm_history.history['mae']\n",
        "val_mae = lstm_history.history['val_mae']\n",
        "epochs = range(1,len(mae)+1)\n",
        "\n",
        "plt.title('Mean Absolute Error')\n",
        "plt.plot(epochs,mae,label='Train')\n",
        "plt.plot(epochs,val_mae,color='red',label='Validation')\n",
        "plt.xlabel('Epochs')\n",
        "plt.ylabel('MAE')\n",
        "plt.legend()\n",
        "plt.show()"
      ],
      "metadata": {
        "colab": {
          "base_uri": "https://localhost:8080/",
          "height": 472
        },
        "id": "lZ8w85mT5AS8",
        "outputId": "5f8a339f-a646-4675-9eeb-35a57d20aee6"
      },
      "execution_count": 43,
      "outputs": [
        {
          "output_type": "display_data",
          "data": {
            "text/plain": [
              "<Figure size 640x480 with 1 Axes>"
            ],
            "image/png": "[encoded data removed]"
          },
          "metadata": {}
        }
      ]
    },
    {
      "cell_type": "markdown",
      "source": [
        "## Predict"
      ],
      "metadata": {
        "id": "ElXvu2HlDekX"
      }
    },
    {
      "cell_type": "code",
      "source": [
        "# Predict using test sets\n",
        "y_pred = lstm_model.predict(X_test)\n",
        "y_pred_inv = min_max_scaler.inverse_transform(y_pred)\n",
        "y_test_inv = min_max_scaler.inverse_transform(y_test.reshape(-1,1))\n",
        "\n",
        "print('MAE = ',round(mean_absolute_error(y_true=y_test_inv,y_pred=y_pred_inv),3),' degrees')\n",
        "print('R2-score = ',round(r2_score(y_test_inv,y_pred_inv),3))"
      ],
      "metadata": {
        "colab": {
          "base_uri": "https://localhost:8080/"
        },
        "id": "4S6FBm5a5Bw-",
        "outputId": "277e9504-7aeb-43ff-c8ab-41fc3c890883"
      },
      "execution_count": 44,
      "outputs": [
        {
          "output_type": "stream",
          "name": "stdout",
          "text": [
            "544/544 [==============================] - 1s 2ms/step\n",
            "MAE =  1.727  degrees\n",
            "R2-score =  0.989\n"
          ]
        }
      ]
    },
    {
      "cell_type": "code",
      "source": [
        "# Visualize prediction\n",
        "plt.plot(range(1,len(y_test_inv)+1),y_test_inv)\n",
        "plt.plot(range(1,len(y_pred_inv)+1),y_pred_inv)"
      ],
      "metadata": {
        "colab": {
          "base_uri": "https://localhost:8080/",
          "height": 449
        },
        "id": "5sESx7tR5Dd-",
        "outputId": "1972cfa7-b4e3-4f7d-c809-f2fb4d388974"
      },
      "execution_count": 45,
      "outputs": [
        {
          "output_type": "execute_result",
          "data": {
            "text/plain": [
              "[<matplotlib.lines.Line2D at 0x7a507f6bf820>]"
            ]
          },
          "metadata": {},
          "execution_count": 45
        },
        {
          "output_type": "display_data",
          "data": {
            "text/plain": [
              "<Figure size 640x480 with 1 Axes>"
            ],
            "image/png": "[encoded data removed]"
          },
          "metadata": {}
        }
      ]
    },
    {
      "cell_type": "markdown",
      "source": [
        "# Regressor (LSTM 2 Layers)"
      ],
      "metadata": {
        "id": "L3vvb7UUDHuG"
      }
    },
    {
      "cell_type": "code",
      "source": [
        "# Build the LSTM model\n",
        "lstm_model2 = tf.keras.Sequential([\n",
        "    tf.keras.layers.LSTM(10, activation='relu', input_shape=(X_train.shape[1], X_train.shape[2]), return_sequences = True),\n",
        "    Dropout(0.2),\n",
        "    tf.keras.layers.LSTM(10, activation='sigmoid'),\n",
        "    Dropout(0.2),\n",
        "    tf.keras.layers.Dense(1, activation='relu')\n",
        "])"
      ],
      "metadata": {
        "id": "6Owz2oTYDNGG"
      },
      "execution_count": 46,
      "outputs": []
    },
    {
      "cell_type": "code",
      "source": [
        "# Compile the LSTM model\n",
        "lstm_model2.compile(loss='mse',\n",
        "                  optimizer='adam',\n",
        "                  metrics='mae')"
      ],
      "metadata": {
        "id": "psfpqO-lDOSh"
      },
      "execution_count": 47,
      "outputs": []
    },
    {
      "cell_type": "code",
      "source": [
        "# Train the LSTM model\n",
        "lstm_history2 = lstm_model2.fit(\n",
        "    X_train,\n",
        "    y_train,\n",
        "    epochs=20,\n",
        "    batch_size=20,\n",
        "    validation_data=(X_val, y_val)\n",
        ")"
      ],
      "metadata": {
        "colab": {
          "base_uri": "https://localhost:8080/"
        },
        "id": "6scyELPUDQZ2",
        "outputId": "b8ad1398-bb2e-433b-f965-29d2a17c8ec9"
      },
      "execution_count": 48,
      "outputs": [
        {
          "output_type": "stream",
          "name": "stdout",
          "text": [
            "Epoch 1/20\n",
            "4062/4062 [==============================] - 23s 5ms/step - loss: 0.0353 - mae: 0.1334 - val_loss: 0.0053 - val_mae: 0.0556\n",
            "Epoch 2/20\n",
            "4062/4062 [==============================] - 20s 5ms/step - loss: 0.0096 - mae: 0.0741 - val_loss: 0.0028 - val_mae: 0.0382\n",
            "Epoch 3/20\n",
            "4062/4062 [==============================] - 20s 5ms/step - loss: 0.0086 - mae: 0.0694 - val_loss: 0.0027 - val_mae: 0.0378\n",
            "Epoch 4/20\n",
            "4062/4062 [==============================] - 20s 5ms/step - loss: 0.0080 - mae: 0.0666 - val_loss: 0.0024 - val_mae: 0.0361\n",
            "Epoch 5/20\n",
            "4062/4062 [==============================] - 20s 5ms/step - loss: 0.0077 - mae: 0.0652 - val_loss: 0.0023 - val_mae: 0.0347\n",
            "Epoch 6/20\n",
            "4062/4062 [==============================] - 19s 5ms/step - loss: 0.0073 - mae: 0.0633 - val_loss: 0.0020 - val_mae: 0.0337\n",
            "Epoch 7/20\n",
            "4062/4062 [==============================] - 20s 5ms/step - loss: 0.0073 - mae: 0.0622 - val_loss: 0.0029 - val_mae: 0.0414\n",
            "Epoch 8/20\n",
            "4062/4062 [==============================] - 19s 5ms/step - loss: 0.0068 - mae: 0.0596 - val_loss: 0.0030 - val_mae: 0.0426\n",
            "Epoch 9/20\n",
            "4062/4062 [==============================] - 18s 4ms/step - loss: 0.0066 - mae: 0.0589 - val_loss: 0.0026 - val_mae: 0.0404\n",
            "Epoch 10/20\n",
            "4062/4062 [==============================] - 18s 4ms/step - loss: 0.0067 - mae: 0.0586 - val_loss: 0.0026 - val_mae: 0.0412\n",
            "Epoch 11/20\n",
            "4062/4062 [==============================] - 19s 5ms/step - loss: 0.0065 - mae: 0.0579 - val_loss: 0.0031 - val_mae: 0.0449\n",
            "Epoch 12/20\n",
            "4062/4062 [==============================] - 20s 5ms/step - loss: 0.0065 - mae: 0.0578 - val_loss: 0.0035 - val_mae: 0.0479\n",
            "Epoch 13/20\n",
            "4062/4062 [==============================] - 18s 5ms/step - loss: 0.0065 - mae: 0.0576 - val_loss: 0.0027 - val_mae: 0.0410\n",
            "Epoch 14/20\n",
            "4062/4062 [==============================] - 19s 5ms/step - loss: 0.0063 - mae: 0.0571 - val_loss: 0.0023 - val_mae: 0.0395\n",
            "Epoch 15/20\n",
            "4062/4062 [==============================] - 19s 5ms/step - loss: 0.0064 - mae: 0.0571 - val_loss: 0.0025 - val_mae: 0.0409\n",
            "Epoch 16/20\n",
            "4062/4062 [==============================] - 19s 5ms/step - loss: 0.0063 - mae: 0.0567 - val_loss: 0.0027 - val_mae: 0.0422\n",
            "Epoch 17/20\n",
            "4062/4062 [==============================] - 19s 5ms/step - loss: 0.0062 - mae: 0.0567 - val_loss: 0.0024 - val_mae: 0.0397\n",
            "Epoch 18/20\n",
            "4062/4062 [==============================] - 19s 5ms/step - loss: 0.0063 - mae: 0.0566 - val_loss: 0.0027 - val_mae: 0.0423\n",
            "Epoch 19/20\n",
            "4062/4062 [==============================] - 19s 5ms/step - loss: 0.0063 - mae: 0.0567 - val_loss: 0.0039 - val_mae: 0.0508\n",
            "Epoch 20/20\n",
            "4062/4062 [==============================] - 18s 4ms/step - loss: 0.0062 - mae: 0.0564 - val_loss: 0.0030 - val_mae: 0.0449\n"
          ]
        }
      ]
    },
    {
      "cell_type": "markdown",
      "source": [
        "## MSE, MAE, R2"
      ],
      "metadata": {
        "id": "b0PKhmnsDgro"
      }
    },
    {
      "cell_type": "code",
      "source": [
        "# Get R2, MSE, & MAE scores\n",
        "y_pred = lstm_model2.predict(X_test)\n",
        "\n",
        "mse = mean_squared_error(y_test, y_pred)\n",
        "\n",
        "mae = mean_absolute_error(y_test, y_pred)\n",
        "\n",
        "r2 = r2_score(y_test, y_pred)\n",
        "\n",
        "print(f\"MSE: {mse:.2f}\")\n",
        "print(f\"MAE: {mae:.2f}\")\n",
        "print(f\"R-squared (R^2): {r2:.2f}\")"
      ],
      "metadata": {
        "colab": {
          "base_uri": "https://localhost:8080/"
        },
        "id": "uM6OkPJzDRzH",
        "outputId": "af8ff5a3-9422-4670-e13a-d0d6c8323c2e"
      },
      "execution_count": 49,
      "outputs": [
        {
          "output_type": "stream",
          "name": "stdout",
          "text": [
            "544/544 [==============================] - 1s 2ms/step\n",
            "MSE: 0.00\n",
            "MAE: 0.04\n",
            "R-squared (R^2): 0.96\n"
          ]
        }
      ]
    },
    {
      "cell_type": "code",
      "source": [
        "# Visualize the mean absolute error\n",
        "mae = lstm_history2.history['mae']\n",
        "val_mae = lstm_history2.history['val_mae']\n",
        "epochs = range(1,len(mae)+1)\n",
        "\n",
        "plt.title('Mean Absolute Error')\n",
        "plt.plot(epochs,mae,label='Train')\n",
        "plt.plot(epochs,val_mae,color='red',label='Validation')\n",
        "plt.xlabel('Epochs')\n",
        "plt.ylabel('MAE')\n",
        "plt.legend()\n",
        "plt.show()"
      ],
      "metadata": {
        "colab": {
          "base_uri": "https://localhost:8080/",
          "height": 472
        },
        "id": "PrSgYd3tDT_x",
        "outputId": "51edf217-b588-4c4e-ec26-f3445d003b4c"
      },
      "execution_count": 50,
      "outputs": [
        {
          "output_type": "display_data",
          "data": {
            "text/plain": [
              "<Figure size 640x480 with 1 Axes>"
            ],
            "image/png": "[encoded data removed]"
          },
          "metadata": {}
        }
      ]
    },
    {
      "cell_type": "markdown",
      "source": [
        "## Predict"
      ],
      "metadata": {
        "id": "hvLNIBCdDi8v"
      }
    },
    {
      "cell_type": "code",
      "source": [
        "# Predict using test sets\n",
        "y_pred = lstm_model2.predict(X_test)\n",
        "y_pred_inv = min_max_scaler.inverse_transform(y_pred)\n",
        "y_test_inv = min_max_scaler.inverse_transform(y_test.reshape(-1,1))\n",
        "\n",
        "print('MAE = ',round(mean_absolute_error(y_true=y_test_inv,y_pred=y_pred_inv),3),' degrees')\n",
        "print('R2-score = ',round(r2_score(y_test_inv,y_pred_inv),3))"
      ],
      "metadata": {
        "colab": {
          "base_uri": "https://localhost:8080/"
        },
        "id": "LnR0MbPxDVXw",
        "outputId": "e21b98ae-8a77-4214-97a1-b79af4262e2f"
      },
      "execution_count": 51,
      "outputs": [
        {
          "output_type": "stream",
          "name": "stdout",
          "text": [
            "544/544 [==============================] - 1s 2ms/step\n",
            "MAE =  3.323  degrees\n",
            "R2-score =  0.962\n"
          ]
        }
      ]
    },
    {
      "cell_type": "code",
      "source": [
        "# Visualize prediction\n",
        "plt.plot(range(1,len(y_test_inv)+1),y_test_inv)\n",
        "plt.plot(range(1,len(y_pred_inv)+1),y_pred_inv)"
      ],
      "metadata": {
        "colab": {
          "base_uri": "https://localhost:8080/",
          "height": 449
        },
        "id": "0P8wpsBlDXVS",
        "outputId": "a8d9ac43-e4a3-4c22-b653-1a8f6e152e61"
      },
      "execution_count": 52,
      "outputs": [
        {
          "output_type": "execute_result",
          "data": {
            "text/plain": [
              "[<matplotlib.lines.Line2D at 0x7a507f9afe50>]"
            ]
          },
          "metadata": {},
          "execution_count": 52
        },
        {
          "output_type": "display_data",
          "data": {
            "text/plain": [
              "<Figure size 640x480 with 1 Axes>"
            ],
            "image/png": "[encoded data removed]"
          },
          "metadata": {}
        }
      ]
    }
  ]
}